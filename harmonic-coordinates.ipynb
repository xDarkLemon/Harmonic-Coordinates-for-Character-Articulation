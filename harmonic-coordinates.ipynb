{
 "cells": [
  {
   "cell_type": "markdown",
   "id": "52f13a25",
   "metadata": {},
   "source": [
    "# Harmonic Coordinates for Character Articulation"
   ]
  },
  {
   "cell_type": "code",
   "execution_count": 199,
   "id": "e91147e0",
   "metadata": {},
   "outputs": [],
   "source": [
    "import igl\n",
    "import numpy as np\n",
    "import meshplot as mp\n",
    "import ipywidgets as iw\n",
    "import scipy.sparse as sp\n",
    "import triangle as tr\n",
    "import matplotlib.pyplot as plt"
   ]
  },
  {
   "cell_type": "markdown",
   "id": "5063766b",
   "metadata": {},
   "source": [
    "## Construct Cage\n",
    "Munually add the cage points one by one interactively."
   ]
  },
  {
   "cell_type": "code",
   "execution_count": 200,
   "id": "1e63b018",
   "metadata": {},
   "outputs": [],
   "source": [
    "# load object\n",
    "v, f = igl.read_triangle_mesh('data/woody-hi.off')\n",
    "# normalization\n",
    "v -= v.min(axis=0)\n",
    "v /= v.max()"
   ]
  },
  {
   "cell_type": "code",
   "execution_count": 201,
   "id": "3def518c",
   "metadata": {},
   "outputs": [
    {
     "data": {
      "application/vnd.jupyter.widget-view+json": {
       "model_id": "7d6a41eb46804d0bbe279e330d244e5f",
       "version_major": 2,
       "version_minor": 0
      },
      "text/plain": [
       "Renderer(camera=PerspectiveCamera(children=(DirectionalLight(color='white', intensity=0.6, position=(0.4306930…"
      ]
     },
     "metadata": {},
     "output_type": "display_data"
    },
    {
     "name": "stdout",
     "output_type": "stream",
     "text": [
      "Plot saved to file imgs/woody-hi.html.\n"
     ]
    }
   ],
   "source": [
    "p = mp.plot(v,f,shading={\"width\":300,\"height\":300})\n",
    "p.save(\"imgs/woody-hi.html\")"
   ]
  },
  {
   "cell_type": "code",
   "execution_count": 202,
   "id": "3da49e4c",
   "metadata": {},
   "outputs": [],
   "source": [
    "# load marker\n",
    "with np.load('data/octa_sphere_5.npz') as npl:\n",
    "    v_s, f_s = npl['v'], npl['f']"
   ]
  },
  {
   "cell_type": "code",
   "execution_count": 203,
   "id": "e7c879ad",
   "metadata": {},
   "outputs": [
    {
     "data": {
      "application/vnd.jupyter.widget-view+json": {
       "model_id": "9201cf4ddbe74f669ffb16fc6ac165b1",
       "version_major": 2,
       "version_minor": 0
      },
      "text/plain": [
       "HBox(children=(Button(description='Add Point', style=ButtonStyle()), Button(description='Show Cage', style=But…"
      ]
     },
     "metadata": {},
     "output_type": "display_data"
    },
    {
     "data": {
      "application/vnd.jupyter.widget-view+json": {
       "model_id": "7ad727e88dae4a97a62829995203c988",
       "version_major": 2,
       "version_minor": 0
      },
      "text/plain": [
       "Renderer(camera=PerspectiveCamera(children=(DirectionalLight(color='white', intensity=0.6, position=(0.4306930…"
      ]
     },
     "metadata": {},
     "output_type": "display_data"
    },
    {
     "data": {
      "application/vnd.jupyter.widget-view+json": {
       "model_id": "73c681fd06d3408ca3adb9cc00985730",
       "version_major": 2,
       "version_minor": 0
      },
      "text/plain": [
       "interactive(children=(FloatSlider(value=0.01, description='radius', max=1.0, min=0.01), FloatSlider(value=0.0,…"
      ]
     },
     "metadata": {},
     "output_type": "display_data"
    },
    {
     "data": {
      "text/plain": [
       "<function __main__.sf>"
      ]
     },
     "execution_count": 203,
     "metadata": {},
     "output_type": "execute_result"
    }
   ],
   "source": [
    "# construct the cage\n",
    "cage = []\n",
    "        \n",
    "add_button = iw.Button(description=\"Add Point\")\n",
    "show_button = iw.Button(description=\"Show Cage\")\n",
    "\n",
    "# Set Callback\n",
    "def add_clicked(b):\n",
    "    point=sf.coord[1:]\n",
    "    cage.append(point)\n",
    "    paint_ui.add_points(np.array([point]),shading={\"point_size\":0.1})\n",
    "    \n",
    "def show_clicked(b):\n",
    "    cage_tmp=np.array(cage)\n",
    "    if len(cage)>1:\n",
    "        for i in range(1,len(cage)):\n",
    "            paint_ui.add_lines(cage_tmp[i-1], cage_tmp[i])\n",
    "        paint_ui.add_lines(cage_tmp[0], cage_tmp[-1])\n",
    "    \n",
    "add_button.on_click(add_clicked)\n",
    "show_button.on_click(show_clicked)\n",
    "\n",
    "# Display Buttons\n",
    "display(iw.HBox([add_button, show_button]))\n",
    "\n",
    "# Meshplot\n",
    "paint_ui = mp.plot(v,f,shading={\"wireframe\": True, \"width\":400, \"height\":400})\n",
    "paint_ui.add_mesh(v_s*0.1, f_s,shading={\"flat\":False},c=np.array([1,0,0]))\n",
    "def sf(radius,x,y,z):\n",
    "    paint_ui.update_object(oid = 1, vertices = v_s*radius + np.array([x,y,z]))\n",
    "    sf.coord = [radius,x,y,z]\n",
    "mp.interact(sf, \n",
    "            radius = iw.FloatSlider(min=0.01, max=1, value=0.01),\n",
    "            x = iw.FloatSlider(min=-0.1, max=1.2, value=0, step=0.01),\n",
    "            y = iw.FloatSlider(min=-0.1, max=1.2, value=0, step=0.01),\n",
    "            z = iw.FloatSlider(min=-0.1, max=1.2, value=0, step=0.01))"
   ]
  },
  {
   "cell_type": "code",
   "execution_count": 175,
   "id": "54a332f4",
   "metadata": {},
   "outputs": [],
   "source": [
    "cage = np.array(cage)"
   ]
  },
  {
   "cell_type": "code",
   "execution_count": 176,
   "id": "e3d26a93",
   "metadata": {},
   "outputs": [],
   "source": [
    "save = False\n",
    "if save:\n",
    "    paint_ui.save(\"imgs/cage.html\")\n",
    "    np.save('data/woody-hi-cage.npy', cage)"
   ]
  },
  {
   "cell_type": "markdown",
   "id": "0b4efb0c",
   "metadata": {},
   "source": [
    "## Harmonic Coordinates"
   ]
  },
  {
   "cell_type": "markdown",
   "id": "9d4a26e4",
   "metadata": {},
   "source": [
    "### Triangulate the cage\n",
    "Use the library `triangle` to generate mesh inside the cage for 2D. It first adds random points inside the cage then apply Delaunay to triangulate the points.\n",
    "\n",
    "\\[TODO\\] For 3D, need PyMesh. To avoid error, please create 2D cage in the previous step."
   ]
  },
  {
   "cell_type": "code",
   "execution_count": 204,
   "id": "6c4ea752",
   "metadata": {},
   "outputs": [],
   "source": [
    "# load cage\n",
    "cage=np.load('data/woody-hi-cage.npy')"
   ]
  },
  {
   "cell_type": "code",
   "execution_count": 178,
   "id": "db31452b",
   "metadata": {},
   "outputs": [],
   "source": [
    "# triangulate\n",
    "def triangulate(cage):\n",
    "    cage_edge = np.array([[i,i+1] for i in range(cage.shape[0])])\n",
    "    cage_edge[-1, -1] = 0\n",
    "\n",
    "    cage_dict = dict(vertices=cage[:,:2], segments=cage_edge, segment_markers=np.ones(cage.shape[0]))\n",
    "    tri = tr.triangulate(cage_dict, 'pqa0.005')\n",
    "\n",
    "    tri_v = tri['vertices']  # the first #cage.shape[0] vertices are cage vertices\n",
    "    tri_f = tri['triangles']\n",
    "    tri_v = np.column_stack((tri_v, np.zeros((tri_v.shape[0],1))))  # 2d -> 3d\n",
    "\n",
    "    return cage_edge, tri_v, tri_f"
   ]
  },
  {
   "cell_type": "code",
   "execution_count": 179,
   "id": "59e0687f",
   "metadata": {},
   "outputs": [],
   "source": [
    "cage_edge, tri_v, tri_f = triangulate(cage)"
   ]
  },
  {
   "cell_type": "code",
   "execution_count": 180,
   "id": "3c92ee14",
   "metadata": {},
   "outputs": [
    {
     "data": {
      "application/vnd.jupyter.widget-view+json": {
       "model_id": "f8db8d2e4f274a50885f07b6fd3c31b9",
       "version_major": 2,
       "version_minor": 0
      },
      "text/plain": [
       "Renderer(camera=PerspectiveCamera(children=(DirectionalLight(color='white', intensity=0.6, position=(0.4250000…"
      ]
     },
     "metadata": {},
     "output_type": "display_data"
    },
    {
     "name": "stdout",
     "output_type": "stream",
     "text": [
      "Plot saved to file imgs/triangulation.html.\n"
     ]
    }
   ],
   "source": [
    "# plot the triangles\n",
    "p = mp.plot(tri_v, tri_f, shading={\"wireframe\": True,\"width\":300,\"height\":300}, c=np.array([0,1,1]))\n",
    "p.add_mesh(v,f)\n",
    "p.add_points(cage,shading={\"point_size\":0.15})\n",
    "p.save(\"imgs/triangulation.html\")"
   ]
  },
  {
   "cell_type": "markdown",
   "id": "75c02ca3",
   "metadata": {},
   "source": [
    "### Compute harmonic weight for triangle vertices\n",
    "Need to solve Laplacian <=> Lx=0 s.t. boundary constraints. Each vertice after triangulation has a weight, corresponding to original cage vertices.\n",
    "#### (1) Compute the triangle boundary conditions\n",
    "The triangle boundary means the vertices after triangulation that lie on the original cage edges. We already know the coordinate of the cage vertices, which is 1 at the dimension of its corresponding index and 0 at other dimensions. So in this step, we compute the coordinates of these augmented cage vertices. The coordinate of the point that lies on the cage edge (vi, vj) is supposed to have positive values between 0 and 1 at i-th and j-th dimension, and to be 0 at other dimensions. \n",
    "\n",
    "- First, get boundary vertices.\n",
    "- Next, compute boundary conditions. For a triangle boundary vertice, loop all cage edges to see which edge it lies on. A point vi lies on the line (v1, v2) if the dist(vi, v1) + dist(vi, v2) = dist(v1, v2). Because the sum of the length of two edges is greater than the other in any triangles."
   ]
  },
  {
   "cell_type": "code",
   "execution_count": 181,
   "id": "34883887",
   "metadata": {},
   "outputs": [],
   "source": [
    "# get triangle boundary vertices\n",
    "def get_bound_v(tri_f):\n",
    "    bound_edge=igl.boundary_facets(tri_f)\n",
    "    bound_vid=np.unique(bound_edge)\n",
    "    return bound_vid"
   ]
  },
  {
   "cell_type": "code",
   "execution_count": 182,
   "id": "b7872aaa",
   "metadata": {},
   "outputs": [],
   "source": [
    "bound_vid = get_bound_v(tri_f)"
   ]
  },
  {
   "cell_type": "code",
   "execution_count": 183,
   "id": "9bb81f68",
   "metadata": {},
   "outputs": [],
   "source": [
    "# compute boundary conditions\n",
    "def compute_bound_cond(tri_v, cage, cage_edge, bound_vid):\n",
    "    bc = np.zeros((tri_v.shape[0], cage.shape[0]))\n",
    "    for vi_idx in bound_vid:\n",
    "        vi = tri_v[vi_idx]\n",
    "        for v1_idx, v2_idx in cage_edge:\n",
    "            v1 = cage[v1_idx]\n",
    "            v2 = cage[v2_idx]\n",
    "            d1 = np.linalg.norm(vi-v1)\n",
    "            d2 = np.linalg.norm(vi-v2)\n",
    "            d12 = np.linalg.norm(v1-v2)\n",
    "            if -0.0001 < (d12 - (d1 + d2)) / d12 < 0.0001:\n",
    "                bc[vi_idx,v1_idx] = d2/d12\n",
    "                bc[vi_idx,v2_idx] = d1/d12\n",
    "                break\n",
    "    # check empty bc lines\n",
    "    assert len(np.where(~bc.any(axis=1))[0]) - (tri_v.shape[0]-bound_vid.shape[0]) == 0\n",
    "    return bc"
   ]
  },
  {
   "cell_type": "code",
   "execution_count": 184,
   "id": "c7948b4d",
   "metadata": {},
   "outputs": [],
   "source": [
    "bc = compute_bound_cond(tri_v, cage, cage_edge, bound_vid)"
   ]
  },
  {
   "cell_type": "markdown",
   "id": "cb28f5f2",
   "metadata": {},
   "source": [
    "#### (2) Solve Lx=0 s.t. boundary conditions"
   ]
  },
  {
   "cell_type": "code",
   "execution_count": 185,
   "id": "cbb45681",
   "metadata": {},
   "outputs": [],
   "source": [
    "# solve Lx=0 s.t. boundary conditions\n",
    "def solve_laplacian(tri_v, tri_f, bc):\n",
    "    l = igl.cotmatrix(tri_v, tri_f)\n",
    "    m = igl.massmatrix(tri_v, tri_f, igl.MASSMATRIX_TYPE_VORONOI)\n",
    "    minv = sp.diags(1 / m.diagonal())\n",
    "\n",
    "    A = l @ minv @ l\n",
    "\n",
    "    is_bound = np.zeros(tri_v.shape[0])\n",
    "    is_bound[bound_vid] = 1\n",
    "\n",
    "    fid = np.argwhere(is_bound==0)[:,0]\n",
    "    cid = bound_vid\n",
    "\n",
    "    A_ff = A[fid][:,fid]\n",
    "    A_fc = A[fid][:,cid]\n",
    "\n",
    "    xc = bc[cid]\n",
    "\n",
    "    xf = sp.linalg.spsolve(A_ff, -A_fc @ xc)\n",
    "\n",
    "    x = np.zeros((tri_v.shape[0], cage.shape[0]))\n",
    "    x[fid] = xf\n",
    "    x[cid] = xc\n",
    "\n",
    "    return x"
   ]
  },
  {
   "cell_type": "code",
   "execution_count": 186,
   "id": "9c1253d5",
   "metadata": {},
   "outputs": [],
   "source": [
    "harmonic_w = solve_laplacian(tri_v, tri_f, bc)"
   ]
  },
  {
   "cell_type": "code",
   "execution_count": 187,
   "id": "e755cb91",
   "metadata": {},
   "outputs": [
    {
     "data": {
      "application/vnd.jupyter.widget-view+json": {
       "model_id": "bd5760ef1bcb414ab2fceabf79e7cff8",
       "version_major": 2,
       "version_minor": 0
      },
      "text/plain": [
       "Renderer(camera=PerspectiveCamera(children=(DirectionalLight(color='white', intensity=0.6, position=(0.4250000…"
      ]
     },
     "metadata": {},
     "output_type": "display_data"
    },
    {
     "name": "stdout",
     "output_type": "stream",
     "text": [
      "Plot saved to file imgs/harmonic_weight0.html.\n"
     ]
    },
    {
     "data": {
      "application/vnd.jupyter.widget-view+json": {
       "model_id": "b473242dc40944f8bcb632bee805e719",
       "version_major": 2,
       "version_minor": 0
      },
      "text/plain": [
       "Renderer(camera=PerspectiveCamera(children=(DirectionalLight(color='white', intensity=0.6, position=(0.4250000…"
      ]
     },
     "metadata": {},
     "output_type": "display_data"
    },
    {
     "name": "stdout",
     "output_type": "stream",
     "text": [
      "Plot saved to file imgs/harmonic_weight1.html.\n"
     ]
    },
    {
     "data": {
      "application/vnd.jupyter.widget-view+json": {
       "model_id": "f4568689d8d1413cbc52dbcab6f2f681",
       "version_major": 2,
       "version_minor": 0
      },
      "text/plain": [
       "Renderer(camera=PerspectiveCamera(children=(DirectionalLight(color='white', intensity=0.6, position=(0.4250000…"
      ]
     },
     "metadata": {},
     "output_type": "display_data"
    },
    {
     "name": "stdout",
     "output_type": "stream",
     "text": [
      "Plot saved to file imgs/harmonic_weight2.html.\n"
     ]
    },
    {
     "data": {
      "application/vnd.jupyter.widget-view+json": {
       "model_id": "821c052fc54245d3a6eeeeaf3c7a5bbc",
       "version_major": 2,
       "version_minor": 0
      },
      "text/plain": [
       "Renderer(camera=PerspectiveCamera(children=(DirectionalLight(color='white', intensity=0.6, position=(0.4250000…"
      ]
     },
     "metadata": {},
     "output_type": "display_data"
    },
    {
     "name": "stdout",
     "output_type": "stream",
     "text": [
      "Plot saved to file imgs/harmonic_weight3.html.\n"
     ]
    },
    {
     "data": {
      "application/vnd.jupyter.widget-view+json": {
       "model_id": "ef07a651803d48bc9194099b9a121bc8",
       "version_major": 2,
       "version_minor": 0
      },
      "text/plain": [
       "Renderer(camera=PerspectiveCamera(children=(DirectionalLight(color='white', intensity=0.6, position=(0.4250000…"
      ]
     },
     "metadata": {},
     "output_type": "display_data"
    },
    {
     "name": "stdout",
     "output_type": "stream",
     "text": [
      "Plot saved to file imgs/harmonic_weight4.html.\n"
     ]
    }
   ],
   "source": [
    "# plot harmonic weight for the first 5 cage vertices\n",
    "for i in range(5):  \n",
    "    p = mp.plot(tri_v,tri_f,shading={\"wireframe\": True,\"width\":150,\"height\":150},c=harmonic_w[:,i])\n",
    "#     p = mp.subplot(tri_v,tri_f,shading={\"wireframe\": True},c=harmonic_w[:,i],s=[1,5,i])\n",
    "    p.save(\"imgs/harmonic_weight%d.html\"%i)"
   ]
  },
  {
   "cell_type": "markdown",
   "id": "c35c0300",
   "metadata": {},
   "source": [
    "### Map object vertices to triangles and compute barycentric coordinates\n",
    "#### (1) Find the triangle each object vertice lies in.\n",
    "Point P is inside triangle ABC \n",
    "<=> The cross product of PA and PB, PB and PC, PC and PA have the same orientation (same sign, all positive or all negative).\n",
    "\n",
    "Compute one vertice with all triangles at a time. "
   ]
  },
  {
   "cell_type": "code",
   "execution_count": 188,
   "id": "74738eb8",
   "metadata": {},
   "outputs": [],
   "source": [
    "# find the triangle that p is inside\n",
    "def is_in_triangle(triangles, p):\n",
    "    P = np.tile(p, triangles.shape[0]).reshape(triangles.shape[0],-1)\n",
    "    A = triangles[:,0,:]\n",
    "    B = triangles[:,1,:]\n",
    "    C = triangles[:,2,:]\n",
    "    PA = A - P\n",
    "    PB = B - P\n",
    "    PC = C - P\n",
    "    t1 = np.cross(PA, PB)\n",
    "    t2 = np.cross(PB, PC)\n",
    "    t3 = np.cross(PC, PA)\n",
    "    flag1 = np.where(t1 * t2 >= 0, 1, 0)\n",
    "    flag2 = np.where(t1 * t3 >= 0, 1, 0)\n",
    "    sign = flag1 * flag2\n",
    "    pos = np.where(sign==1)\n",
    "    return pos"
   ]
  },
  {
   "cell_type": "code",
   "execution_count": 189,
   "id": "69e4e925",
   "metadata": {},
   "outputs": [],
   "source": [
    "# get all triangle positions\n",
    "triangles = []\n",
    "for i in range(tri_f.shape[0]):\n",
    "    triangles.append([tri_v[tri_f[i][0]], tri_v[tri_f[i][1]],tri_v[tri_f[i][2]]])\n",
    "triangles = np.array(triangles)    \n"
   ]
  },
  {
   "cell_type": "code",
   "execution_count": 190,
   "id": "f72a1862",
   "metadata": {},
   "outputs": [],
   "source": [
    "# find triangle id for all vertices\n",
    "def map_vertix_tri(v,triangles):\n",
    "    v2tri = []\n",
    "    for vi in v:\n",
    "        tri_ids = is_in_triangle(triangles[:,:,:2], np.array(vi[:2]))[0]\n",
    "        if len(tri_ids)>1:\n",
    "            print(\"More than 1 triangle match\")\n",
    "        v2tri.append(tri_ids[0])\n",
    "    return v2tri"
   ]
  },
  {
   "cell_type": "code",
   "execution_count": 191,
   "id": "4002bf3a",
   "metadata": {},
   "outputs": [],
   "source": [
    "v2tri =  map_vertix_tri(v,triangles)"
   ]
  },
  {
   "cell_type": "markdown",
   "id": "05018cde",
   "metadata": {},
   "source": [
    "#### (2) Compute the barycentric coordinate of the vertice within the triangle."
   ]
  },
  {
   "cell_type": "code",
   "execution_count": 192,
   "id": "73dd4d26",
   "metadata": {},
   "outputs": [],
   "source": [
    "def barycentric_coord(p, triangle):\n",
    "    a,b,c = triangle\n",
    "    A = [\n",
    "        [b[0]-a[0],c[0]-a[0]],\n",
    "        [b[1]-a[1],c[1]-a[1]]\n",
    "    ]\n",
    "    b = [p[0]-a[0], p[1]-a[1]]\n",
    "    w2, w3 = np.linalg.solve(A,b)\n",
    "    w1 = 1-w2-w3\n",
    "    return np.array([w1, w2, w3])"
   ]
  },
  {
   "cell_type": "code",
   "execution_count": 193,
   "id": "8150473a",
   "metadata": {},
   "outputs": [],
   "source": [
    "bary_coor = []\n",
    "\n",
    "for i in range(v.shape[0]):\n",
    "    vi=np.array(v)[i]\n",
    "    bary_coor.append(barycentric_coord(vi,triangles[v2tri[i]]))\n",
    "bary_coor = np.array(bary_coor)"
   ]
  },
  {
   "cell_type": "markdown",
   "id": "f55b6f51",
   "metadata": {},
   "source": [
    "### Compute Harmonic Coordinates"
   ]
  },
  {
   "cell_type": "code",
   "execution_count": 194,
   "id": "4e1b9cae",
   "metadata": {},
   "outputs": [],
   "source": [
    "harmonic_coor = np.zeros((v.shape[0], cage.shape[0]))\n",
    "\n",
    "for i in range(v.shape[0]):\n",
    "    for j in [0,1,2]:\n",
    "        harmonic_coor[i,:] += bary_coor[i, j] * harmonic_w[tri_f[v2tri[i],j],:]"
   ]
  },
  {
   "cell_type": "markdown",
   "id": "daede5d5",
   "metadata": {},
   "source": [
    "## Interactive Deformation"
   ]
  },
  {
   "cell_type": "code",
   "execution_count": 205,
   "id": "e09f2690",
   "metadata": {},
   "outputs": [],
   "source": [
    "v_copy = v.copy()\n",
    "tri_v_copy=tri_v.copy()\n",
    "\n",
    "def position_deformer(tri_v_copy):\n",
    "    return harmonic_coor @ tri_v_copy[:cage.shape[0],:]\n",
    "\n",
    "def pos_f(selected_vertices, x,y,z):\n",
    "    tri_v_copy[selected_vertices,:] = tri_v[selected_vertices,:] + np.array([x,y,z])\n",
    "    v_deformed = pos_f.deformer(tri_v_copy)\n",
    "\n",
    "    p.update_object(oid=0, vertices = v_deformed)\n",
    "    \n",
    "    global point_oid\n",
    "    global line_oid\n",
    "    p.remove_object(point_oid)\n",
    "    p.remove_object(line_oid)\n",
    "    point_oid = p.add_points(tri_v_copy[:cage.shape[0]], shading={\"point_size\":0.15})\n",
    "    line_oid = p.add_lines(tri_v_copy[cage_edge[:,0]], tri_v_copy[cage_edge[:,1]])\n",
    "    \n",
    "pos_f.deformer = position_deformer"
   ]
  },
  {
   "cell_type": "code",
   "execution_count": 206,
   "id": "d7c666bf",
   "metadata": {},
   "outputs": [],
   "source": [
    "def widgets_wrapper():\n",
    "    select_widget = iw.SelectMultiple(\n",
    "                            options=np.arange(cage.shape[0]),\n",
    "                            rows=8,\n",
    "                            description=\"Select Cage Vertices\")\n",
    "    translate_widget = {i:iw.FloatSlider(min=-1, max=1, value=0, step=0.01) \n",
    "                        for i in 'xyz'}\n",
    "\n",
    "    widgets_dict = dict(selected_vertices=select_widget)\n",
    "    widgets_dict.update(translate_widget)\n",
    "    return widgets_dict"
   ]
  },
  {
   "cell_type": "code",
   "execution_count": 207,
   "id": "9982d80d",
   "metadata": {},
   "outputs": [
    {
     "data": {
      "application/vnd.jupyter.widget-view+json": {
       "model_id": "54b64673e0ee47b39f129db6a61e4bc7",
       "version_major": 2,
       "version_minor": 0
      },
      "text/plain": [
       "Renderer(camera=PerspectiveCamera(children=(DirectionalLight(color='white', intensity=0.6, position=(0.4306930…"
      ]
     },
     "metadata": {},
     "output_type": "display_data"
    },
    {
     "data": {
      "application/vnd.jupyter.widget-view+json": {
       "model_id": "dddd929a9ee24b22b0037261f2601ba3",
       "version_major": 2,
       "version_minor": 0
      },
      "text/plain": [
       "interactive(children=(SelectMultiple(description='Select Cage Vertices', options=(0, 1, 2, 3, 4, 5, 6, 7, 8, 9…"
      ]
     },
     "metadata": {},
     "output_type": "display_data"
    },
    {
     "data": {
      "text/plain": [
       "<function __main__.pos_f>"
      ]
     },
     "execution_count": 207,
     "metadata": {},
     "output_type": "execute_result"
    }
   ],
   "source": [
    "p = mp.plot(v, f,shading={\"width\":300,\"height\":300})\n",
    "point_oid = p.add_points(cage, shading={\"point_size\":0.15})\n",
    "line_oid = p.add_lines(cage[cage_edge[:,0]], cage[cage_edge[:,1]])\n",
    "\n",
    "iw.interact(pos_f, **widgets_wrapper())"
   ]
  },
  {
   "cell_type": "code",
   "execution_count": 198,
   "id": "266bddba",
   "metadata": {},
   "outputs": [
    {
     "name": "stdout",
     "output_type": "stream",
     "text": [
      "Plot saved to file imgs/deformation.html.\n"
     ]
    }
   ],
   "source": [
    "p.save(\"imgs/deformation.html\")"
   ]
  },
  {
   "cell_type": "code",
   "execution_count": null,
   "id": "17b60e63",
   "metadata": {},
   "outputs": [],
   "source": []
  }
 ],
 "metadata": {
  "kernelspec": {
   "display_name": "gm",
   "language": "python",
   "name": "gm"
  },
  "language_info": {
   "codemirror_mode": {
    "name": "ipython",
    "version": 3
   },
   "file_extension": ".py",
   "mimetype": "text/x-python",
   "name": "python",
   "nbconvert_exporter": "python",
   "pygments_lexer": "ipython3",
   "version": "3.6.13"
  }
 },
 "nbformat": 4,
 "nbformat_minor": 5
}
